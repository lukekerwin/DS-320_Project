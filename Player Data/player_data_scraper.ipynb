{
 "cells": [
  {
   "cell_type": "code",
   "execution_count": 6,
   "metadata": {},
   "outputs": [],
   "source": [
    "import requests, json\n",
    "import pandas as pd\n",
    "from bs4 import BeautifulSoup\n",
    "\n",
    "\n",
    "mast_df = []\n",
    "for year in range(2023,2009,-1):\n",
    "    r = requests.get(f'https://www.hockey-reference.com/leagues/NHL_{year}_skaters.html').text\n",
    "    df = pd.read_html(r)[0]\n",
    "    new_columns = [x[1] for x in df.columns]\n",
    "    df.columns = new_columns\n",
    "    df['year'] = year\n",
    "    mast_df.append(df)\n",
    "\n",
    "mast_df = pd.concat(mast_df)\n",
    "mast_df = mast_df[mast_df['Rk'] != 'Rk']\n",
    "mast_df.reset_index(inplace=True, drop=True)\n",
    "mast_df.to_csv('player_data.csv', index=False)\n",
    "mast_df"
   ]
  }
 ],
 "metadata": {
  "kernelspec": {
   "display_name": "Python 3.8.5 ('base')",
   "language": "python",
   "name": "python3"
  },
  "language_info": {
   "codemirror_mode": {
    "name": "ipython",
    "version": 3
   },
   "file_extension": ".py",
   "mimetype": "text/x-python",
   "name": "python",
   "nbconvert_exporter": "python",
   "pygments_lexer": "ipython3",
   "version": "3.8.5"
  },
  "orig_nbformat": 4,
  "vscode": {
   "interpreter": {
    "hash": "cde9e06954608812f36a56132da0251c351f6ad8984d203ba87e4f78021e1e3f"
   }
  }
 },
 "nbformat": 4,
 "nbformat_minor": 2
}
