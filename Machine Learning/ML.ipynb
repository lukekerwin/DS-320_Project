{
 "cells": [
  {
   "cell_type": "markdown",
   "metadata": {},
   "source": [
    "# Machine Learning"
   ]
  },
  {
   "cell_type": "markdown",
   "metadata": {},
   "source": [
    "In this section, we will perform the machine learning aspect of our project which will include identifying business problem, data preprocessing, feature engineering, model building, and model tuning."
   ]
  },
  {
   "cell_type": "markdown",
   "metadata": {},
   "source": [
    "## Predicting Hockey Contracts"
   ]
  },
  {
   "cell_type": "markdown",
   "metadata": {},
   "source": [
    "This problem requires two solutions utilizing machine learning techniques. <ol><li>Creating regression model to predict contract length.</li><li>Creating another regression model to predict annual salary of the contract.</li></ol>"
   ]
  },
  {
   "cell_type": "markdown",
   "metadata": {},
   "source": [
    "# Predicting Contract Length"
   ]
  },
  {
   "cell_type": "markdown",
   "metadata": {},
   "source": [
    "## Data Preprocesing"
   ]
  },
  {
   "cell_type": "markdown",
   "metadata": {},
   "source": [
    "First, we must transform our data into machine learning format."
   ]
  },
  {
   "cell_type": "code",
   "execution_count": 261,
   "metadata": {},
   "outputs": [],
   "source": [
    "# Load data and libraries\n",
    "\n",
    "import numpy as np\n",
    "import pandas as pd\n",
    "import matplotlib.pyplot as plt"
   ]
  },
  {
   "cell_type": "code",
   "execution_count": 262,
   "metadata": {},
   "outputs": [
    {
     "data": {
      "text/html": [
       "<div>\n",
       "<style scoped>\n",
       "    .dataframe tbody tr th:only-of-type {\n",
       "        vertical-align: middle;\n",
       "    }\n",
       "\n",
       "    .dataframe tbody tr th {\n",
       "        vertical-align: top;\n",
       "    }\n",
       "\n",
       "    .dataframe thead th {\n",
       "        text-align: right;\n",
       "    }\n",
       "</style>\n",
       "<table border=\"1\" class=\"dataframe\">\n",
       "  <thead>\n",
       "    <tr style=\"text-align: right;\">\n",
       "      <th></th>\n",
       "      <th>Rk</th>\n",
       "      <th>Player</th>\n",
       "      <th>Age</th>\n",
       "      <th>Tm</th>\n",
       "      <th>Pos</th>\n",
       "      <th>GP</th>\n",
       "      <th>G</th>\n",
       "      <th>A</th>\n",
       "      <th>PTS</th>\n",
       "      <th>+/-</th>\n",
       "      <th>...</th>\n",
       "      <th>FOW</th>\n",
       "      <th>FOL</th>\n",
       "      <th>FO%</th>\n",
       "      <th>Contract Type</th>\n",
       "      <th>NHL Clause</th>\n",
       "      <th>Term</th>\n",
       "      <th>Total Value</th>\n",
       "      <th>AAV</th>\n",
       "      <th>Year</th>\n",
       "      <th>Month</th>\n",
       "    </tr>\n",
       "  </thead>\n",
       "  <tbody>\n",
       "    <tr>\n",
       "      <th>0</th>\n",
       "      <td>2</td>\n",
       "      <td>Noel Acciari</td>\n",
       "      <td>31.0</td>\n",
       "      <td>TOT</td>\n",
       "      <td>C</td>\n",
       "      <td>77</td>\n",
       "      <td>14</td>\n",
       "      <td>9</td>\n",
       "      <td>23</td>\n",
       "      <td>-4</td>\n",
       "      <td>...</td>\n",
       "      <td>337.0</td>\n",
       "      <td>289.0</td>\n",
       "      <td>53.8</td>\n",
       "      <td>Stnd (UFA)</td>\n",
       "      <td>0</td>\n",
       "      <td>3</td>\n",
       "      <td>6000000</td>\n",
       "      <td>2000000</td>\n",
       "      <td>2023</td>\n",
       "      <td>7</td>\n",
       "    </tr>\n",
       "    <tr>\n",
       "      <th>1</th>\n",
       "      <td>6</td>\n",
       "      <td>Sebastian Aho</td>\n",
       "      <td>25.0</td>\n",
       "      <td>CAR</td>\n",
       "      <td>F</td>\n",
       "      <td>75</td>\n",
       "      <td>36</td>\n",
       "      <td>31</td>\n",
       "      <td>67</td>\n",
       "      <td>8</td>\n",
       "      <td>...</td>\n",
       "      <td>531.0</td>\n",
       "      <td>503.0</td>\n",
       "      <td>51.4</td>\n",
       "      <td>Stnd (RFA)</td>\n",
       "      <td>0</td>\n",
       "      <td>1</td>\n",
       "      <td>42295000</td>\n",
       "      <td>8460250</td>\n",
       "      <td>2023</td>\n",
       "      <td>7</td>\n",
       "    </tr>\n",
       "    <tr>\n",
       "      <th>2</th>\n",
       "      <td>9</td>\n",
       "      <td>Alexander Alexeyev</td>\n",
       "      <td>23.0</td>\n",
       "      <td>WSH</td>\n",
       "      <td>D</td>\n",
       "      <td>32</td>\n",
       "      <td>0</td>\n",
       "      <td>5</td>\n",
       "      <td>5</td>\n",
       "      <td>-2</td>\n",
       "      <td>...</td>\n",
       "      <td>0.0</td>\n",
       "      <td>0.0</td>\n",
       "      <td>0.0</td>\n",
       "      <td>Stnd (RFA)</td>\n",
       "      <td>1</td>\n",
       "      <td>2</td>\n",
       "      <td>1650000</td>\n",
       "      <td>825000</td>\n",
       "      <td>2023</td>\n",
       "      <td>5</td>\n",
       "    </tr>\n",
       "    <tr>\n",
       "      <th>3</th>\n",
       "      <td>17</td>\n",
       "      <td>Jaret Anderson-Dolan</td>\n",
       "      <td>23.0</td>\n",
       "      <td>LAK</td>\n",
       "      <td>C</td>\n",
       "      <td>46</td>\n",
       "      <td>7</td>\n",
       "      <td>5</td>\n",
       "      <td>12</td>\n",
       "      <td>-11</td>\n",
       "      <td>...</td>\n",
       "      <td>23.0</td>\n",
       "      <td>16.0</td>\n",
       "      <td>59.0</td>\n",
       "      <td>Stnd (UFA)</td>\n",
       "      <td>0</td>\n",
       "      <td>1</td>\n",
       "      <td>775000</td>\n",
       "      <td>775000</td>\n",
       "      <td>2023</td>\n",
       "      <td>7</td>\n",
       "    </tr>\n",
       "    <tr>\n",
       "      <th>4</th>\n",
       "      <td>19</td>\n",
       "      <td>Rasmus Andersson</td>\n",
       "      <td>26.0</td>\n",
       "      <td>CGY</td>\n",
       "      <td>D</td>\n",
       "      <td>79</td>\n",
       "      <td>11</td>\n",
       "      <td>38</td>\n",
       "      <td>49</td>\n",
       "      <td>5</td>\n",
       "      <td>...</td>\n",
       "      <td>0.0</td>\n",
       "      <td>0.0</td>\n",
       "      <td>0.0</td>\n",
       "      <td>Stnd (RFA)</td>\n",
       "      <td>1</td>\n",
       "      <td>3</td>\n",
       "      <td>27300000</td>\n",
       "      <td>4550000</td>\n",
       "      <td>2023</td>\n",
       "      <td>1</td>\n",
       "    </tr>\n",
       "  </tbody>\n",
       "</table>\n",
       "<p>5 rows × 35 columns</p>\n",
       "</div>"
      ],
      "text/plain": [
       "   Rk                Player   Age   Tm Pos  GP   G   A  PTS  +/-  ...    FOW  \\\n",
       "0   2          Noel Acciari  31.0  TOT   C  77  14   9   23   -4  ...  337.0   \n",
       "1   6         Sebastian Aho  25.0  CAR   F  75  36  31   67    8  ...  531.0   \n",
       "2   9    Alexander Alexeyev  23.0  WSH   D  32   0   5    5   -2  ...    0.0   \n",
       "3  17  Jaret Anderson-Dolan  23.0  LAK   C  46   7   5   12  -11  ...   23.0   \n",
       "4  19      Rasmus Andersson  26.0  CGY   D  79  11  38   49    5  ...    0.0   \n",
       "\n",
       "     FOL   FO%  Contract Type  NHL Clause  Term  Total Value      AAV  Year  \\\n",
       "0  289.0  53.8     Stnd (UFA)           0     3      6000000  2000000  2023   \n",
       "1  503.0  51.4     Stnd (RFA)           0     1     42295000  8460250  2023   \n",
       "2    0.0   0.0     Stnd (RFA)           1     2      1650000   825000  2023   \n",
       "3   16.0  59.0     Stnd (UFA)           0     1       775000   775000  2023   \n",
       "4    0.0   0.0     Stnd (RFA)           1     3     27300000  4550000  2023   \n",
       "\n",
       "   Month  \n",
       "0      7  \n",
       "1      7  \n",
       "2      5  \n",
       "3      7  \n",
       "4      1  \n",
       "\n",
       "[5 rows x 35 columns]"
      ]
     },
     "execution_count": 262,
     "metadata": {},
     "output_type": "execute_result"
    }
   ],
   "source": [
    "df = pd.read_csv('../Combined Contract and Player Data/Combined_data_non_null.csv')\n",
    "df.head()"
   ]
  },
  {
   "cell_type": "code",
   "execution_count": 263,
   "metadata": {},
   "outputs": [
    {
     "name": "stdout",
     "output_type": "stream",
     "text": [
      "<class 'pandas.core.frame.DataFrame'>\n",
      "RangeIndex: 3040 entries, 0 to 3039\n",
      "Data columns (total 35 columns):\n",
      " #   Column         Non-Null Count  Dtype  \n",
      "---  ------         --------------  -----  \n",
      " 0   Rk             3040 non-null   int64  \n",
      " 1   Player         3040 non-null   object \n",
      " 2   Age            3040 non-null   float64\n",
      " 3   Tm             3040 non-null   object \n",
      " 4   Pos            3040 non-null   object \n",
      " 5   GP             3040 non-null   int64  \n",
      " 6   G              3040 non-null   int64  \n",
      " 7   A              3040 non-null   int64  \n",
      " 8   PTS            3040 non-null   int64  \n",
      " 9   +/-            3040 non-null   int64  \n",
      " 10  PIM            3040 non-null   int64  \n",
      " 11  PS             3040 non-null   float64\n",
      " 12  EV             3040 non-null   int64  \n",
      " 13  PP             3040 non-null   int64  \n",
      " 14  SH             3040 non-null   int64  \n",
      " 15  GW             3040 non-null   int64  \n",
      " 16  EV.1           3040 non-null   int64  \n",
      " 17  PP.1           3040 non-null   int64  \n",
      " 18  SH.1           3040 non-null   int64  \n",
      " 19  S              3040 non-null   int64  \n",
      " 20  S%             3040 non-null   float64\n",
      " 21  TOI            3040 non-null   int64  \n",
      " 22  ATOI           3040 non-null   int64  \n",
      " 23  BLK            3040 non-null   float64\n",
      " 24  HIT            3040 non-null   int64  \n",
      " 25  FOW            3040 non-null   float64\n",
      " 26  FOL            3040 non-null   float64\n",
      " 27  FO%            3040 non-null   float64\n",
      " 28  Contract Type  3040 non-null   object \n",
      " 29  NHL Clause     3040 non-null   int64  \n",
      " 30  Term           3040 non-null   int64  \n",
      " 31  Total Value    3040 non-null   int64  \n",
      " 32  AAV            3040 non-null   int64  \n",
      " 33  Year           3040 non-null   int64  \n",
      " 34  Month          3040 non-null   int64  \n",
      "dtypes: float64(7), int64(24), object(4)\n",
      "memory usage: 831.4+ KB\n"
     ]
    }
   ],
   "source": [
    "df.info()"
   ]
  },
  {
   "cell_type": "code",
   "execution_count": 264,
   "metadata": {},
   "outputs": [
    {
     "name": "stdout",
     "output_type": "stream",
     "text": [
      "<class 'pandas.core.frame.DataFrame'>\n",
      "RangeIndex: 3040 entries, 0 to 3039\n",
      "Data columns (total 16 columns):\n",
      " #   Column         Non-Null Count  Dtype  \n",
      "---  ------         --------------  -----  \n",
      " 0   S              3040 non-null   int64  \n",
      " 1   S%             3040 non-null   float64\n",
      " 2   TOI            3040 non-null   int64  \n",
      " 3   ATOI           3040 non-null   int64  \n",
      " 4   BLK            3040 non-null   float64\n",
      " 5   HIT            3040 non-null   int64  \n",
      " 6   FOW            3040 non-null   float64\n",
      " 7   FOL            3040 non-null   float64\n",
      " 8   FO%            3040 non-null   float64\n",
      " 9   Contract Type  3040 non-null   object \n",
      " 10  NHL Clause     3040 non-null   int64  \n",
      " 11  Term           3040 non-null   int64  \n",
      " 12  Total Value    3040 non-null   int64  \n",
      " 13  AAV            3040 non-null   int64  \n",
      " 14  Year           3040 non-null   int64  \n",
      " 15  Month          3040 non-null   int64  \n",
      "dtypes: float64(5), int64(10), object(1)\n",
      "memory usage: 380.1+ KB\n"
     ]
    }
   ],
   "source": [
    "df.iloc[:, 19:].info()"
   ]
  },
  {
   "cell_type": "code",
   "execution_count": 265,
   "metadata": {},
   "outputs": [
    {
     "data": {
      "text/plain": [
       "AAV            1.000000\n",
       "Total Value    0.874247\n",
       "A              0.688155\n",
       "PTS            0.687197\n",
       "PS             0.684374\n",
       "PP.1           0.627714\n",
       "EV.1           0.627539\n",
       "ATOI           0.622977\n",
       "S              0.620934\n",
       "Term           0.600315\n",
       "TOI            0.566251\n",
       "PP             0.561842\n",
       "G              0.551588\n",
       "EV             0.486105\n",
       "GW             0.468695\n",
       "GP             0.334917\n",
       "FOW            0.211956\n",
       "BLK            0.206548\n",
       "Year           0.206099\n",
       "S%             0.198476\n",
       "FOL            0.197887\n",
       "+/-            0.154976\n",
       "Age            0.107214\n",
       "SH.1           0.096541\n",
       "Rk             0.089373\n",
       "SH             0.070781\n",
       "FO%            0.056631\n",
       "PIM            0.025443\n",
       "Month          0.021305\n",
       "NHL Clause     0.017234\n",
       "HIT           -0.010349\n",
       "Name: AAV, dtype: float64"
      ]
     },
     "execution_count": 265,
     "metadata": {},
     "output_type": "execute_result"
    }
   ],
   "source": [
    "# Find variables most highly correlated with Term variable\n",
    "corr = df.corr(numeric_only=True)\n",
    "corr['AAV'].sort_values(ascending=False)"
   ]
  },
  {
   "cell_type": "markdown",
   "metadata": {},
   "source": [
    "We will remove `Total Value` and `AAV` as these are highly correlated with our target variable and will be variables we will be predicting in our second model. Furthermore, they are knowledge we wouldn't have when making predictions for a player's future contract."
   ]
  },
  {
   "cell_type": "code",
   "execution_count": 266,
   "metadata": {},
   "outputs": [],
   "source": [
    "# Remove useless variables\n",
    "df = df.drop(columns=(['Rk', 'Player', 'Total Value', 'Term']))\n",
    "\n",
    "# y = df.Term"
   ]
  },
  {
   "cell_type": "markdown",
   "metadata": {},
   "source": [
    "We will build a model with all the variables and perform feature selection afterwards"
   ]
  },
  {
   "cell_type": "code",
   "execution_count": 267,
   "metadata": {},
   "outputs": [
    {
     "data": {
      "text/plain": [
       "Tm\n",
       "TOT    288\n",
       "NYI    148\n",
       "WSH    138\n",
       "NSH    116\n",
       "BUF    110\n",
       "CGY    108\n",
       "TBL    102\n",
       "MIN    101\n",
       "PIT    101\n",
       "LAK    100\n",
       "DAL     99\n",
       "BOS     98\n",
       "EDM     94\n",
       "VAN     93\n",
       "TOR     92\n",
       "MTL     89\n",
       "COL     86\n",
       "FLA     84\n",
       "DET     84\n",
       "NYR     84\n",
       "OTT     82\n",
       "PHI     78\n",
       "STL     76\n",
       "NJD     69\n",
       "CBJ     68\n",
       "SJS     66\n",
       "WPG     63\n",
       "CHI     62\n",
       "ANA     61\n",
       "CAR     60\n",
       "VEG     54\n",
       "ARI     54\n",
       "PHX     23\n",
       "SEA      7\n",
       "ATL      2\n",
       "Name: count, dtype: int64"
      ]
     },
     "execution_count": 267,
     "metadata": {},
     "output_type": "execute_result"
    }
   ],
   "source": [
    "df['Tm'].value_counts()"
   ]
  },
  {
   "cell_type": "code",
   "execution_count": 268,
   "metadata": {},
   "outputs": [
    {
     "data": {
      "text/html": [
       "<div>\n",
       "<style scoped>\n",
       "    .dataframe tbody tr th:only-of-type {\n",
       "        vertical-align: middle;\n",
       "    }\n",
       "\n",
       "    .dataframe tbody tr th {\n",
       "        vertical-align: top;\n",
       "    }\n",
       "\n",
       "    .dataframe thead th {\n",
       "        text-align: right;\n",
       "    }\n",
       "</style>\n",
       "<table border=\"1\" class=\"dataframe\">\n",
       "  <thead>\n",
       "    <tr style=\"text-align: right;\">\n",
       "      <th></th>\n",
       "      <th>Age</th>\n",
       "      <th>Pos</th>\n",
       "      <th>GP</th>\n",
       "      <th>G</th>\n",
       "      <th>A</th>\n",
       "      <th>PTS</th>\n",
       "      <th>+/-</th>\n",
       "      <th>PIM</th>\n",
       "      <th>PS</th>\n",
       "      <th>EV</th>\n",
       "      <th>...</th>\n",
       "      <th>Tm_SEA</th>\n",
       "      <th>Tm_SJS</th>\n",
       "      <th>Tm_STL</th>\n",
       "      <th>Tm_TBL</th>\n",
       "      <th>Tm_TOR</th>\n",
       "      <th>Tm_TOT</th>\n",
       "      <th>Tm_VAN</th>\n",
       "      <th>Tm_VEG</th>\n",
       "      <th>Tm_WPG</th>\n",
       "      <th>Tm_WSH</th>\n",
       "    </tr>\n",
       "  </thead>\n",
       "  <tbody>\n",
       "    <tr>\n",
       "      <th>0</th>\n",
       "      <td>31.0</td>\n",
       "      <td>C</td>\n",
       "      <td>77</td>\n",
       "      <td>14</td>\n",
       "      <td>9</td>\n",
       "      <td>23</td>\n",
       "      <td>-4</td>\n",
       "      <td>21</td>\n",
       "      <td>1.5</td>\n",
       "      <td>14</td>\n",
       "      <td>...</td>\n",
       "      <td>0</td>\n",
       "      <td>0</td>\n",
       "      <td>0</td>\n",
       "      <td>0</td>\n",
       "      <td>0</td>\n",
       "      <td>1</td>\n",
       "      <td>0</td>\n",
       "      <td>0</td>\n",
       "      <td>0</td>\n",
       "      <td>0</td>\n",
       "    </tr>\n",
       "    <tr>\n",
       "      <th>1</th>\n",
       "      <td>25.0</td>\n",
       "      <td>F</td>\n",
       "      <td>75</td>\n",
       "      <td>36</td>\n",
       "      <td>31</td>\n",
       "      <td>67</td>\n",
       "      <td>8</td>\n",
       "      <td>42</td>\n",
       "      <td>8.2</td>\n",
       "      <td>26</td>\n",
       "      <td>...</td>\n",
       "      <td>0</td>\n",
       "      <td>0</td>\n",
       "      <td>0</td>\n",
       "      <td>0</td>\n",
       "      <td>0</td>\n",
       "      <td>0</td>\n",
       "      <td>0</td>\n",
       "      <td>0</td>\n",
       "      <td>0</td>\n",
       "      <td>0</td>\n",
       "    </tr>\n",
       "    <tr>\n",
       "      <th>2</th>\n",
       "      <td>23.0</td>\n",
       "      <td>D</td>\n",
       "      <td>32</td>\n",
       "      <td>0</td>\n",
       "      <td>5</td>\n",
       "      <td>5</td>\n",
       "      <td>-2</td>\n",
       "      <td>4</td>\n",
       "      <td>0.9</td>\n",
       "      <td>0</td>\n",
       "      <td>...</td>\n",
       "      <td>0</td>\n",
       "      <td>0</td>\n",
       "      <td>0</td>\n",
       "      <td>0</td>\n",
       "      <td>0</td>\n",
       "      <td>0</td>\n",
       "      <td>0</td>\n",
       "      <td>0</td>\n",
       "      <td>0</td>\n",
       "      <td>1</td>\n",
       "    </tr>\n",
       "    <tr>\n",
       "      <th>3</th>\n",
       "      <td>23.0</td>\n",
       "      <td>C</td>\n",
       "      <td>46</td>\n",
       "      <td>7</td>\n",
       "      <td>5</td>\n",
       "      <td>12</td>\n",
       "      <td>-11</td>\n",
       "      <td>2</td>\n",
       "      <td>0.6</td>\n",
       "      <td>7</td>\n",
       "      <td>...</td>\n",
       "      <td>0</td>\n",
       "      <td>0</td>\n",
       "      <td>0</td>\n",
       "      <td>0</td>\n",
       "      <td>0</td>\n",
       "      <td>0</td>\n",
       "      <td>0</td>\n",
       "      <td>0</td>\n",
       "      <td>0</td>\n",
       "      <td>0</td>\n",
       "    </tr>\n",
       "    <tr>\n",
       "      <th>4</th>\n",
       "      <td>26.0</td>\n",
       "      <td>D</td>\n",
       "      <td>79</td>\n",
       "      <td>11</td>\n",
       "      <td>38</td>\n",
       "      <td>49</td>\n",
       "      <td>5</td>\n",
       "      <td>26</td>\n",
       "      <td>8.0</td>\n",
       "      <td>9</td>\n",
       "      <td>...</td>\n",
       "      <td>0</td>\n",
       "      <td>0</td>\n",
       "      <td>0</td>\n",
       "      <td>0</td>\n",
       "      <td>0</td>\n",
       "      <td>0</td>\n",
       "      <td>0</td>\n",
       "      <td>0</td>\n",
       "      <td>0</td>\n",
       "      <td>0</td>\n",
       "    </tr>\n",
       "  </tbody>\n",
       "</table>\n",
       "<p>5 rows × 64 columns</p>\n",
       "</div>"
      ],
      "text/plain": [
       "    Age Pos  GP   G   A  PTS  +/-  PIM   PS  EV  ...  Tm_SEA  Tm_SJS  Tm_STL  \\\n",
       "0  31.0   C  77  14   9   23   -4   21  1.5  14  ...       0       0       0   \n",
       "1  25.0   F  75  36  31   67    8   42  8.2  26  ...       0       0       0   \n",
       "2  23.0   D  32   0   5    5   -2    4  0.9   0  ...       0       0       0   \n",
       "3  23.0   C  46   7   5   12  -11    2  0.6   7  ...       0       0       0   \n",
       "4  26.0   D  79  11  38   49    5   26  8.0   9  ...       0       0       0   \n",
       "\n",
       "   Tm_TBL  Tm_TOR  Tm_TOT  Tm_VAN  Tm_VEG  Tm_WPG  Tm_WSH  \n",
       "0       0       0       1       0       0       0       0  \n",
       "1       0       0       0       0       0       0       0  \n",
       "2       0       0       0       0       0       0       1  \n",
       "3       0       0       0       0       0       0       0  \n",
       "4       0       0       0       0       0       0       0  \n",
       "\n",
       "[5 rows x 64 columns]"
      ]
     },
     "execution_count": 268,
     "metadata": {},
     "output_type": "execute_result"
    }
   ],
   "source": [
    "df = pd.get_dummies(df, columns=['Tm'], drop_first=True, dtype=int)\n",
    "df.head()"
   ]
  },
  {
   "cell_type": "code",
   "execution_count": 269,
   "metadata": {},
   "outputs": [
    {
     "data": {
      "text/plain": [
       "Pos\n",
       "D    1121\n",
       "C     955\n",
       "W     940\n",
       "F      24\n",
       "Name: count, dtype: int64"
      ]
     },
     "execution_count": 269,
     "metadata": {},
     "output_type": "execute_result"
    }
   ],
   "source": [
    "df['Pos'].value_counts()"
   ]
  },
  {
   "cell_type": "code",
   "execution_count": 270,
   "metadata": {},
   "outputs": [
    {
     "data": {
      "text/html": [
       "<div>\n",
       "<style scoped>\n",
       "    .dataframe tbody tr th:only-of-type {\n",
       "        vertical-align: middle;\n",
       "    }\n",
       "\n",
       "    .dataframe tbody tr th {\n",
       "        vertical-align: top;\n",
       "    }\n",
       "\n",
       "    .dataframe thead th {\n",
       "        text-align: right;\n",
       "    }\n",
       "</style>\n",
       "<table border=\"1\" class=\"dataframe\">\n",
       "  <thead>\n",
       "    <tr style=\"text-align: right;\">\n",
       "      <th></th>\n",
       "      <th>Age</th>\n",
       "      <th>GP</th>\n",
       "      <th>G</th>\n",
       "      <th>A</th>\n",
       "      <th>PTS</th>\n",
       "      <th>+/-</th>\n",
       "      <th>PIM</th>\n",
       "      <th>PS</th>\n",
       "      <th>EV</th>\n",
       "      <th>PP</th>\n",
       "      <th>...</th>\n",
       "      <th>Tm_TBL</th>\n",
       "      <th>Tm_TOR</th>\n",
       "      <th>Tm_TOT</th>\n",
       "      <th>Tm_VAN</th>\n",
       "      <th>Tm_VEG</th>\n",
       "      <th>Tm_WPG</th>\n",
       "      <th>Tm_WSH</th>\n",
       "      <th>Pos_D</th>\n",
       "      <th>Pos_F</th>\n",
       "      <th>Pos_W</th>\n",
       "    </tr>\n",
       "  </thead>\n",
       "  <tbody>\n",
       "    <tr>\n",
       "      <th>0</th>\n",
       "      <td>31.0</td>\n",
       "      <td>77</td>\n",
       "      <td>14</td>\n",
       "      <td>9</td>\n",
       "      <td>23</td>\n",
       "      <td>-4</td>\n",
       "      <td>21</td>\n",
       "      <td>1.5</td>\n",
       "      <td>14</td>\n",
       "      <td>0</td>\n",
       "      <td>...</td>\n",
       "      <td>0</td>\n",
       "      <td>0</td>\n",
       "      <td>1</td>\n",
       "      <td>0</td>\n",
       "      <td>0</td>\n",
       "      <td>0</td>\n",
       "      <td>0</td>\n",
       "      <td>0</td>\n",
       "      <td>0</td>\n",
       "      <td>0</td>\n",
       "    </tr>\n",
       "    <tr>\n",
       "      <th>1</th>\n",
       "      <td>25.0</td>\n",
       "      <td>75</td>\n",
       "      <td>36</td>\n",
       "      <td>31</td>\n",
       "      <td>67</td>\n",
       "      <td>8</td>\n",
       "      <td>42</td>\n",
       "      <td>8.2</td>\n",
       "      <td>26</td>\n",
       "      <td>7</td>\n",
       "      <td>...</td>\n",
       "      <td>0</td>\n",
       "      <td>0</td>\n",
       "      <td>0</td>\n",
       "      <td>0</td>\n",
       "      <td>0</td>\n",
       "      <td>0</td>\n",
       "      <td>0</td>\n",
       "      <td>0</td>\n",
       "      <td>1</td>\n",
       "      <td>0</td>\n",
       "    </tr>\n",
       "    <tr>\n",
       "      <th>2</th>\n",
       "      <td>23.0</td>\n",
       "      <td>32</td>\n",
       "      <td>0</td>\n",
       "      <td>5</td>\n",
       "      <td>5</td>\n",
       "      <td>-2</td>\n",
       "      <td>4</td>\n",
       "      <td>0.9</td>\n",
       "      <td>0</td>\n",
       "      <td>0</td>\n",
       "      <td>...</td>\n",
       "      <td>0</td>\n",
       "      <td>0</td>\n",
       "      <td>0</td>\n",
       "      <td>0</td>\n",
       "      <td>0</td>\n",
       "      <td>0</td>\n",
       "      <td>1</td>\n",
       "      <td>1</td>\n",
       "      <td>0</td>\n",
       "      <td>0</td>\n",
       "    </tr>\n",
       "    <tr>\n",
       "      <th>3</th>\n",
       "      <td>23.0</td>\n",
       "      <td>46</td>\n",
       "      <td>7</td>\n",
       "      <td>5</td>\n",
       "      <td>12</td>\n",
       "      <td>-11</td>\n",
       "      <td>2</td>\n",
       "      <td>0.6</td>\n",
       "      <td>7</td>\n",
       "      <td>0</td>\n",
       "      <td>...</td>\n",
       "      <td>0</td>\n",
       "      <td>0</td>\n",
       "      <td>0</td>\n",
       "      <td>0</td>\n",
       "      <td>0</td>\n",
       "      <td>0</td>\n",
       "      <td>0</td>\n",
       "      <td>0</td>\n",
       "      <td>0</td>\n",
       "      <td>0</td>\n",
       "    </tr>\n",
       "    <tr>\n",
       "      <th>4</th>\n",
       "      <td>26.0</td>\n",
       "      <td>79</td>\n",
       "      <td>11</td>\n",
       "      <td>38</td>\n",
       "      <td>49</td>\n",
       "      <td>5</td>\n",
       "      <td>26</td>\n",
       "      <td>8.0</td>\n",
       "      <td>9</td>\n",
       "      <td>1</td>\n",
       "      <td>...</td>\n",
       "      <td>0</td>\n",
       "      <td>0</td>\n",
       "      <td>0</td>\n",
       "      <td>0</td>\n",
       "      <td>0</td>\n",
       "      <td>0</td>\n",
       "      <td>0</td>\n",
       "      <td>1</td>\n",
       "      <td>0</td>\n",
       "      <td>0</td>\n",
       "    </tr>\n",
       "  </tbody>\n",
       "</table>\n",
       "<p>5 rows × 66 columns</p>\n",
       "</div>"
      ],
      "text/plain": [
       "    Age  GP   G   A  PTS  +/-  PIM   PS  EV  PP  ...  Tm_TBL  Tm_TOR  Tm_TOT  \\\n",
       "0  31.0  77  14   9   23   -4   21  1.5  14   0  ...       0       0       1   \n",
       "1  25.0  75  36  31   67    8   42  8.2  26   7  ...       0       0       0   \n",
       "2  23.0  32   0   5    5   -2    4  0.9   0   0  ...       0       0       0   \n",
       "3  23.0  46   7   5   12  -11    2  0.6   7   0  ...       0       0       0   \n",
       "4  26.0  79  11  38   49    5   26  8.0   9   1  ...       0       0       0   \n",
       "\n",
       "   Tm_VAN  Tm_VEG  Tm_WPG  Tm_WSH  Pos_D  Pos_F  Pos_W  \n",
       "0       0       0       0       0      0      0      0  \n",
       "1       0       0       0       0      0      1      0  \n",
       "2       0       0       0       1      1      0      0  \n",
       "3       0       0       0       0      0      0      0  \n",
       "4       0       0       0       0      1      0      0  \n",
       "\n",
       "[5 rows x 66 columns]"
      ]
     },
     "execution_count": 270,
     "metadata": {},
     "output_type": "execute_result"
    }
   ],
   "source": [
    "df = pd.get_dummies(df, columns=['Pos'], drop_first=True, dtype=int)\n",
    "df.head()"
   ]
  },
  {
   "cell_type": "code",
   "execution_count": 271,
   "metadata": {},
   "outputs": [
    {
     "data": {
      "text/plain": [
       "Contract Type\n",
       "Stnd (RFA)    1538\n",
       "Stnd (UFA)    1366\n",
       "35+ (UFA)      136\n",
       "Name: count, dtype: int64"
      ]
     },
     "execution_count": 271,
     "metadata": {},
     "output_type": "execute_result"
    }
   ],
   "source": [
    "df['Contract Type'].value_counts()"
   ]
  },
  {
   "cell_type": "code",
   "execution_count": 272,
   "metadata": {},
   "outputs": [
    {
     "data": {
      "text/html": [
       "<div>\n",
       "<style scoped>\n",
       "    .dataframe tbody tr th:only-of-type {\n",
       "        vertical-align: middle;\n",
       "    }\n",
       "\n",
       "    .dataframe tbody tr th {\n",
       "        vertical-align: top;\n",
       "    }\n",
       "\n",
       "    .dataframe thead th {\n",
       "        text-align: right;\n",
       "    }\n",
       "</style>\n",
       "<table border=\"1\" class=\"dataframe\">\n",
       "  <thead>\n",
       "    <tr style=\"text-align: right;\">\n",
       "      <th></th>\n",
       "      <th>Age</th>\n",
       "      <th>GP</th>\n",
       "      <th>G</th>\n",
       "      <th>A</th>\n",
       "      <th>PTS</th>\n",
       "      <th>+/-</th>\n",
       "      <th>PIM</th>\n",
       "      <th>PS</th>\n",
       "      <th>EV</th>\n",
       "      <th>PP</th>\n",
       "      <th>...</th>\n",
       "      <th>Tm_TOT</th>\n",
       "      <th>Tm_VAN</th>\n",
       "      <th>Tm_VEG</th>\n",
       "      <th>Tm_WPG</th>\n",
       "      <th>Tm_WSH</th>\n",
       "      <th>Pos_D</th>\n",
       "      <th>Pos_F</th>\n",
       "      <th>Pos_W</th>\n",
       "      <th>Contract Type_Stnd (RFA)</th>\n",
       "      <th>Contract Type_Stnd (UFA)</th>\n",
       "    </tr>\n",
       "  </thead>\n",
       "  <tbody>\n",
       "    <tr>\n",
       "      <th>0</th>\n",
       "      <td>31.0</td>\n",
       "      <td>77</td>\n",
       "      <td>14</td>\n",
       "      <td>9</td>\n",
       "      <td>23</td>\n",
       "      <td>-4</td>\n",
       "      <td>21</td>\n",
       "      <td>1.5</td>\n",
       "      <td>14</td>\n",
       "      <td>0</td>\n",
       "      <td>...</td>\n",
       "      <td>1</td>\n",
       "      <td>0</td>\n",
       "      <td>0</td>\n",
       "      <td>0</td>\n",
       "      <td>0</td>\n",
       "      <td>0</td>\n",
       "      <td>0</td>\n",
       "      <td>0</td>\n",
       "      <td>0</td>\n",
       "      <td>1</td>\n",
       "    </tr>\n",
       "    <tr>\n",
       "      <th>1</th>\n",
       "      <td>25.0</td>\n",
       "      <td>75</td>\n",
       "      <td>36</td>\n",
       "      <td>31</td>\n",
       "      <td>67</td>\n",
       "      <td>8</td>\n",
       "      <td>42</td>\n",
       "      <td>8.2</td>\n",
       "      <td>26</td>\n",
       "      <td>7</td>\n",
       "      <td>...</td>\n",
       "      <td>0</td>\n",
       "      <td>0</td>\n",
       "      <td>0</td>\n",
       "      <td>0</td>\n",
       "      <td>0</td>\n",
       "      <td>0</td>\n",
       "      <td>1</td>\n",
       "      <td>0</td>\n",
       "      <td>1</td>\n",
       "      <td>0</td>\n",
       "    </tr>\n",
       "    <tr>\n",
       "      <th>2</th>\n",
       "      <td>23.0</td>\n",
       "      <td>32</td>\n",
       "      <td>0</td>\n",
       "      <td>5</td>\n",
       "      <td>5</td>\n",
       "      <td>-2</td>\n",
       "      <td>4</td>\n",
       "      <td>0.9</td>\n",
       "      <td>0</td>\n",
       "      <td>0</td>\n",
       "      <td>...</td>\n",
       "      <td>0</td>\n",
       "      <td>0</td>\n",
       "      <td>0</td>\n",
       "      <td>0</td>\n",
       "      <td>1</td>\n",
       "      <td>1</td>\n",
       "      <td>0</td>\n",
       "      <td>0</td>\n",
       "      <td>1</td>\n",
       "      <td>0</td>\n",
       "    </tr>\n",
       "    <tr>\n",
       "      <th>3</th>\n",
       "      <td>23.0</td>\n",
       "      <td>46</td>\n",
       "      <td>7</td>\n",
       "      <td>5</td>\n",
       "      <td>12</td>\n",
       "      <td>-11</td>\n",
       "      <td>2</td>\n",
       "      <td>0.6</td>\n",
       "      <td>7</td>\n",
       "      <td>0</td>\n",
       "      <td>...</td>\n",
       "      <td>0</td>\n",
       "      <td>0</td>\n",
       "      <td>0</td>\n",
       "      <td>0</td>\n",
       "      <td>0</td>\n",
       "      <td>0</td>\n",
       "      <td>0</td>\n",
       "      <td>0</td>\n",
       "      <td>0</td>\n",
       "      <td>1</td>\n",
       "    </tr>\n",
       "    <tr>\n",
       "      <th>4</th>\n",
       "      <td>26.0</td>\n",
       "      <td>79</td>\n",
       "      <td>11</td>\n",
       "      <td>38</td>\n",
       "      <td>49</td>\n",
       "      <td>5</td>\n",
       "      <td>26</td>\n",
       "      <td>8.0</td>\n",
       "      <td>9</td>\n",
       "      <td>1</td>\n",
       "      <td>...</td>\n",
       "      <td>0</td>\n",
       "      <td>0</td>\n",
       "      <td>0</td>\n",
       "      <td>0</td>\n",
       "      <td>0</td>\n",
       "      <td>1</td>\n",
       "      <td>0</td>\n",
       "      <td>0</td>\n",
       "      <td>1</td>\n",
       "      <td>0</td>\n",
       "    </tr>\n",
       "  </tbody>\n",
       "</table>\n",
       "<p>5 rows × 67 columns</p>\n",
       "</div>"
      ],
      "text/plain": [
       "    Age  GP   G   A  PTS  +/-  PIM   PS  EV  PP  ...  Tm_TOT  Tm_VAN  Tm_VEG  \\\n",
       "0  31.0  77  14   9   23   -4   21  1.5  14   0  ...       1       0       0   \n",
       "1  25.0  75  36  31   67    8   42  8.2  26   7  ...       0       0       0   \n",
       "2  23.0  32   0   5    5   -2    4  0.9   0   0  ...       0       0       0   \n",
       "3  23.0  46   7   5   12  -11    2  0.6   7   0  ...       0       0       0   \n",
       "4  26.0  79  11  38   49    5   26  8.0   9   1  ...       0       0       0   \n",
       "\n",
       "   Tm_WPG  Tm_WSH  Pos_D  Pos_F  Pos_W  Contract Type_Stnd (RFA)  \\\n",
       "0       0       0      0      0      0                         0   \n",
       "1       0       0      0      1      0                         1   \n",
       "2       0       1      1      0      0                         1   \n",
       "3       0       0      0      0      0                         0   \n",
       "4       0       0      1      0      0                         1   \n",
       "\n",
       "   Contract Type_Stnd (UFA)  \n",
       "0                         1  \n",
       "1                         0  \n",
       "2                         0  \n",
       "3                         1  \n",
       "4                         0  \n",
       "\n",
       "[5 rows x 67 columns]"
      ]
     },
     "execution_count": 272,
     "metadata": {},
     "output_type": "execute_result"
    }
   ],
   "source": [
    "df = pd.get_dummies(df, columns=['Contract Type'], drop_first=True, dtype=int)\n",
    "df.head()"
   ]
  },
  {
   "cell_type": "markdown",
   "metadata": {},
   "source": [
    "## Initial Model building"
   ]
  },
  {
   "cell_type": "markdown",
   "metadata": {},
   "source": [
    "Now that all our variables are numerical, we can begin inputting our data into a model. We still need to split the data into train and test sets and scale."
   ]
  },
  {
   "cell_type": "code",
   "execution_count": 273,
   "metadata": {},
   "outputs": [
    {
     "data": {
      "text/html": [
       "<div>\n",
       "<style scoped>\n",
       "    .dataframe tbody tr th:only-of-type {\n",
       "        vertical-align: middle;\n",
       "    }\n",
       "\n",
       "    .dataframe tbody tr th {\n",
       "        vertical-align: top;\n",
       "    }\n",
       "\n",
       "    .dataframe thead th {\n",
       "        text-align: right;\n",
       "    }\n",
       "</style>\n",
       "<table border=\"1\" class=\"dataframe\">\n",
       "  <thead>\n",
       "    <tr style=\"text-align: right;\">\n",
       "      <th></th>\n",
       "      <th>Age</th>\n",
       "      <th>GP</th>\n",
       "      <th>G</th>\n",
       "      <th>A</th>\n",
       "      <th>PTS</th>\n",
       "      <th>+/-</th>\n",
       "      <th>PIM</th>\n",
       "      <th>PS</th>\n",
       "      <th>EV</th>\n",
       "      <th>PP</th>\n",
       "      <th>...</th>\n",
       "      <th>Tm_TOT</th>\n",
       "      <th>Tm_VAN</th>\n",
       "      <th>Tm_VEG</th>\n",
       "      <th>Tm_WPG</th>\n",
       "      <th>Tm_WSH</th>\n",
       "      <th>Pos_D</th>\n",
       "      <th>Pos_F</th>\n",
       "      <th>Pos_W</th>\n",
       "      <th>Contract Type_Stnd (RFA)</th>\n",
       "      <th>Contract Type_Stnd (UFA)</th>\n",
       "    </tr>\n",
       "  </thead>\n",
       "  <tbody>\n",
       "    <tr>\n",
       "      <th>0</th>\n",
       "      <td>22.0</td>\n",
       "      <td>68</td>\n",
       "      <td>16</td>\n",
       "      <td>28</td>\n",
       "      <td>44</td>\n",
       "      <td>28</td>\n",
       "      <td>30</td>\n",
       "      <td>4.7</td>\n",
       "      <td>14</td>\n",
       "      <td>1</td>\n",
       "      <td>...</td>\n",
       "      <td>0</td>\n",
       "      <td>0</td>\n",
       "      <td>0</td>\n",
       "      <td>0</td>\n",
       "      <td>0</td>\n",
       "      <td>0</td>\n",
       "      <td>0</td>\n",
       "      <td>0</td>\n",
       "      <td>1</td>\n",
       "      <td>0</td>\n",
       "    </tr>\n",
       "    <tr>\n",
       "      <th>1</th>\n",
       "      <td>31.0</td>\n",
       "      <td>82</td>\n",
       "      <td>15</td>\n",
       "      <td>35</td>\n",
       "      <td>50</td>\n",
       "      <td>3</td>\n",
       "      <td>75</td>\n",
       "      <td>4.8</td>\n",
       "      <td>12</td>\n",
       "      <td>3</td>\n",
       "      <td>...</td>\n",
       "      <td>1</td>\n",
       "      <td>0</td>\n",
       "      <td>0</td>\n",
       "      <td>0</td>\n",
       "      <td>0</td>\n",
       "      <td>0</td>\n",
       "      <td>0</td>\n",
       "      <td>0</td>\n",
       "      <td>1</td>\n",
       "      <td>0</td>\n",
       "    </tr>\n",
       "    <tr>\n",
       "      <th>2</th>\n",
       "      <td>27.0</td>\n",
       "      <td>65</td>\n",
       "      <td>1</td>\n",
       "      <td>12</td>\n",
       "      <td>13</td>\n",
       "      <td>5</td>\n",
       "      <td>18</td>\n",
       "      <td>0.2</td>\n",
       "      <td>1</td>\n",
       "      <td>0</td>\n",
       "      <td>...</td>\n",
       "      <td>1</td>\n",
       "      <td>0</td>\n",
       "      <td>0</td>\n",
       "      <td>0</td>\n",
       "      <td>0</td>\n",
       "      <td>0</td>\n",
       "      <td>0</td>\n",
       "      <td>0</td>\n",
       "      <td>0</td>\n",
       "      <td>1</td>\n",
       "    </tr>\n",
       "    <tr>\n",
       "      <th>3</th>\n",
       "      <td>35.0</td>\n",
       "      <td>45</td>\n",
       "      <td>17</td>\n",
       "      <td>20</td>\n",
       "      <td>37</td>\n",
       "      <td>1</td>\n",
       "      <td>6</td>\n",
       "      <td>4.6</td>\n",
       "      <td>11</td>\n",
       "      <td>6</td>\n",
       "      <td>...</td>\n",
       "      <td>0</td>\n",
       "      <td>0</td>\n",
       "      <td>0</td>\n",
       "      <td>0</td>\n",
       "      <td>0</td>\n",
       "      <td>0</td>\n",
       "      <td>0</td>\n",
       "      <td>0</td>\n",
       "      <td>0</td>\n",
       "      <td>0</td>\n",
       "    </tr>\n",
       "    <tr>\n",
       "      <th>4</th>\n",
       "      <td>23.0</td>\n",
       "      <td>70</td>\n",
       "      <td>22</td>\n",
       "      <td>27</td>\n",
       "      <td>49</td>\n",
       "      <td>-22</td>\n",
       "      <td>42</td>\n",
       "      <td>4.6</td>\n",
       "      <td>20</td>\n",
       "      <td>2</td>\n",
       "      <td>...</td>\n",
       "      <td>0</td>\n",
       "      <td>0</td>\n",
       "      <td>0</td>\n",
       "      <td>0</td>\n",
       "      <td>0</td>\n",
       "      <td>0</td>\n",
       "      <td>0</td>\n",
       "      <td>1</td>\n",
       "      <td>1</td>\n",
       "      <td>0</td>\n",
       "    </tr>\n",
       "    <tr>\n",
       "      <th>...</th>\n",
       "      <td>...</td>\n",
       "      <td>...</td>\n",
       "      <td>...</td>\n",
       "      <td>...</td>\n",
       "      <td>...</td>\n",
       "      <td>...</td>\n",
       "      <td>...</td>\n",
       "      <td>...</td>\n",
       "      <td>...</td>\n",
       "      <td>...</td>\n",
       "      <td>...</td>\n",
       "      <td>...</td>\n",
       "      <td>...</td>\n",
       "      <td>...</td>\n",
       "      <td>...</td>\n",
       "      <td>...</td>\n",
       "      <td>...</td>\n",
       "      <td>...</td>\n",
       "      <td>...</td>\n",
       "      <td>...</td>\n",
       "      <td>...</td>\n",
       "    </tr>\n",
       "    <tr>\n",
       "      <th>3035</th>\n",
       "      <td>25.0</td>\n",
       "      <td>42</td>\n",
       "      <td>1</td>\n",
       "      <td>7</td>\n",
       "      <td>8</td>\n",
       "      <td>-4</td>\n",
       "      <td>14</td>\n",
       "      <td>1.3</td>\n",
       "      <td>1</td>\n",
       "      <td>0</td>\n",
       "      <td>...</td>\n",
       "      <td>0</td>\n",
       "      <td>0</td>\n",
       "      <td>0</td>\n",
       "      <td>0</td>\n",
       "      <td>0</td>\n",
       "      <td>1</td>\n",
       "      <td>0</td>\n",
       "      <td>0</td>\n",
       "      <td>1</td>\n",
       "      <td>0</td>\n",
       "    </tr>\n",
       "    <tr>\n",
       "      <th>3036</th>\n",
       "      <td>29.0</td>\n",
       "      <td>82</td>\n",
       "      <td>5</td>\n",
       "      <td>42</td>\n",
       "      <td>47</td>\n",
       "      <td>-4</td>\n",
       "      <td>40</td>\n",
       "      <td>6.3</td>\n",
       "      <td>3</td>\n",
       "      <td>2</td>\n",
       "      <td>...</td>\n",
       "      <td>0</td>\n",
       "      <td>0</td>\n",
       "      <td>0</td>\n",
       "      <td>0</td>\n",
       "      <td>0</td>\n",
       "      <td>1</td>\n",
       "      <td>0</td>\n",
       "      <td>0</td>\n",
       "      <td>0</td>\n",
       "      <td>1</td>\n",
       "    </tr>\n",
       "    <tr>\n",
       "      <th>3037</th>\n",
       "      <td>27.0</td>\n",
       "      <td>78</td>\n",
       "      <td>22</td>\n",
       "      <td>14</td>\n",
       "      <td>36</td>\n",
       "      <td>-19</td>\n",
       "      <td>71</td>\n",
       "      <td>3.3</td>\n",
       "      <td>16</td>\n",
       "      <td>3</td>\n",
       "      <td>...</td>\n",
       "      <td>0</td>\n",
       "      <td>0</td>\n",
       "      <td>0</td>\n",
       "      <td>0</td>\n",
       "      <td>0</td>\n",
       "      <td>0</td>\n",
       "      <td>0</td>\n",
       "      <td>0</td>\n",
       "      <td>1</td>\n",
       "      <td>0</td>\n",
       "    </tr>\n",
       "    <tr>\n",
       "      <th>3038</th>\n",
       "      <td>29.0</td>\n",
       "      <td>24</td>\n",
       "      <td>4</td>\n",
       "      <td>10</td>\n",
       "      <td>14</td>\n",
       "      <td>-7</td>\n",
       "      <td>0</td>\n",
       "      <td>0.8</td>\n",
       "      <td>2</td>\n",
       "      <td>2</td>\n",
       "      <td>...</td>\n",
       "      <td>0</td>\n",
       "      <td>0</td>\n",
       "      <td>0</td>\n",
       "      <td>0</td>\n",
       "      <td>0</td>\n",
       "      <td>0</td>\n",
       "      <td>0</td>\n",
       "      <td>1</td>\n",
       "      <td>1</td>\n",
       "      <td>0</td>\n",
       "    </tr>\n",
       "    <tr>\n",
       "      <th>3039</th>\n",
       "      <td>22.0</td>\n",
       "      <td>52</td>\n",
       "      <td>9</td>\n",
       "      <td>15</td>\n",
       "      <td>24</td>\n",
       "      <td>-7</td>\n",
       "      <td>11</td>\n",
       "      <td>2.0</td>\n",
       "      <td>9</td>\n",
       "      <td>0</td>\n",
       "      <td>...</td>\n",
       "      <td>0</td>\n",
       "      <td>0</td>\n",
       "      <td>0</td>\n",
       "      <td>0</td>\n",
       "      <td>0</td>\n",
       "      <td>0</td>\n",
       "      <td>0</td>\n",
       "      <td>1</td>\n",
       "      <td>1</td>\n",
       "      <td>0</td>\n",
       "    </tr>\n",
       "  </tbody>\n",
       "</table>\n",
       "<p>3040 rows × 67 columns</p>\n",
       "</div>"
      ],
      "text/plain": [
       "       Age  GP   G   A  PTS  +/-  PIM   PS  EV  PP  ...  Tm_TOT  Tm_VAN  \\\n",
       "0     22.0  68  16  28   44   28   30  4.7  14   1  ...       0       0   \n",
       "1     31.0  82  15  35   50    3   75  4.8  12   3  ...       1       0   \n",
       "2     27.0  65   1  12   13    5   18  0.2   1   0  ...       1       0   \n",
       "3     35.0  45  17  20   37    1    6  4.6  11   6  ...       0       0   \n",
       "4     23.0  70  22  27   49  -22   42  4.6  20   2  ...       0       0   \n",
       "...    ...  ..  ..  ..  ...  ...  ...  ...  ..  ..  ...     ...     ...   \n",
       "3035  25.0  42   1   7    8   -4   14  1.3   1   0  ...       0       0   \n",
       "3036  29.0  82   5  42   47   -4   40  6.3   3   2  ...       0       0   \n",
       "3037  27.0  78  22  14   36  -19   71  3.3  16   3  ...       0       0   \n",
       "3038  29.0  24   4  10   14   -7    0  0.8   2   2  ...       0       0   \n",
       "3039  22.0  52   9  15   24   -7   11  2.0   9   0  ...       0       0   \n",
       "\n",
       "      Tm_VEG  Tm_WPG  Tm_WSH  Pos_D  Pos_F  Pos_W  Contract Type_Stnd (RFA)  \\\n",
       "0          0       0       0      0      0      0                         1   \n",
       "1          0       0       0      0      0      0                         1   \n",
       "2          0       0       0      0      0      0                         0   \n",
       "3          0       0       0      0      0      0                         0   \n",
       "4          0       0       0      0      0      1                         1   \n",
       "...      ...     ...     ...    ...    ...    ...                       ...   \n",
       "3035       0       0       0      1      0      0                         1   \n",
       "3036       0       0       0      1      0      0                         0   \n",
       "3037       0       0       0      0      0      0                         1   \n",
       "3038       0       0       0      0      0      1                         1   \n",
       "3039       0       0       0      0      0      1                         1   \n",
       "\n",
       "      Contract Type_Stnd (UFA)  \n",
       "0                            0  \n",
       "1                            0  \n",
       "2                            1  \n",
       "3                            0  \n",
       "4                            0  \n",
       "...                        ...  \n",
       "3035                         0  \n",
       "3036                         1  \n",
       "3037                         0  \n",
       "3038                         0  \n",
       "3039                         0  \n",
       "\n",
       "[3040 rows x 67 columns]"
      ]
     },
     "execution_count": 273,
     "metadata": {},
     "output_type": "execute_result"
    }
   ],
   "source": [
    "# shuffle the samples\n",
    "df = df.sample(n = len(df), random_state = 23)\n",
    "df = df.reset_index(drop = True)\n",
    "df"
   ]
  },
  {
   "cell_type": "code",
   "execution_count": 274,
   "metadata": {},
   "outputs": [
    {
     "name": "stdout",
     "output_type": "stream",
     "text": [
      "Split size: 0.300\n"
     ]
    }
   ],
   "source": [
    "# Save 30% of the data as validation and test data\n",
    "df_valid_test=df.sample(frac=0.30,random_state=23)\n",
    "print('Split size: %.3f'%(len(df_valid_test)/len(df)))"
   ]
  },
  {
   "cell_type": "code",
   "execution_count": 275,
   "metadata": {},
   "outputs": [],
   "source": [
    "df_test = df_valid_test.sample(frac = 0.5, random_state = 23)\n",
    "df_valid = df_valid_test.drop(df_test.index)"
   ]
  },
  {
   "cell_type": "code",
   "execution_count": 276,
   "metadata": {},
   "outputs": [],
   "source": [
    "# use the rest of the data as training data\n",
    "df_train=df.drop(df_valid_test.index)"
   ]
  },
  {
   "cell_type": "code",
   "execution_count": 277,
   "metadata": {},
   "outputs": [
    {
     "name": "stdout",
     "output_type": "stream",
     "text": [
      "Test prevalence(n = 456):2924284.936\n",
      "Valid prevalence(n = 456):2962382.103\n",
      "Train all prevalence(n = 2128):3102232.914\n"
     ]
    }
   ],
   "source": [
    "def calc_prevalence(y_actual):\n",
    "    return (sum(y_actual)/len(y_actual))\n",
    "    \n",
    "print('Test prevalence(n = %d):%.3f'%(len(df_test),calc_prevalence(df_test.AAV.values)))\n",
    "print('Valid prevalence(n = %d):%.3f'%(len(df_valid),calc_prevalence(df_valid.AAV.values)))\n",
    "print('Train all prevalence(n = %d):%.3f'%(len(df_train_all), calc_prevalence(df_train.AAV.values)))"
   ]
  },
  {
   "cell_type": "code",
   "execution_count": 278,
   "metadata": {},
   "outputs": [],
   "source": [
    "X_train = df_train.drop('AAV', axis=1)\n",
    "y_train = df_train['AAV']\n",
    "X_val = df_valid.drop('AAV', axis=1)\n",
    "y_val = df_valid['AAV']"
   ]
  },
  {
   "cell_type": "code",
   "execution_count": 279,
   "metadata": {},
   "outputs": [],
   "source": [
    "from sklearn.preprocessing import StandardScaler\n",
    "\n",
    "sc = StandardScaler()\n",
    "X_train = sc.fit_transform(X_train)\n",
    "X_val = sc.transform(X_val)"
   ]
  },
  {
   "cell_type": "markdown",
   "metadata": {},
   "source": [
    "### Linear Regression"
   ]
  },
  {
   "cell_type": "code",
   "execution_count": 280,
   "metadata": {},
   "outputs": [],
   "source": [
    "from sklearn.linear_model import LinearRegression\n",
    "\n",
    "lr = LinearRegression()\n",
    "lr.fit(X_train, y_train)\n",
    "\n",
    "y_pred = lr.predict(X_val)"
   ]
  },
  {
   "cell_type": "code",
   "execution_count": 281,
   "metadata": {},
   "outputs": [
    {
     "name": "stdout",
     "output_type": "stream",
     "text": [
      "MSE: 1634240792794.1204\n",
      "R2: 0.6505189102715558\n"
     ]
    }
   ],
   "source": [
    "from sklearn.metrics import mean_squared_error, r2_score\n",
    "\n",
    "lr_mse = mean_squared_error(y_val, y_pred)\n",
    "lr_r2 = r2_score(y_val, y_pred)\n",
    "\n",
    "print(f'MSE: {lr_mse}')\n",
    "print(f'R2: {lr_r2}')"
   ]
  },
  {
   "cell_type": "code",
   "execution_count": 282,
   "metadata": {},
   "outputs": [
    {
     "data": {
      "text/plain": [
       "<matplotlib.collections.PathCollection at 0x7fcca8850730>"
      ]
     },
     "execution_count": 282,
     "metadata": {},
     "output_type": "execute_result"
    },
    {
     "data": {
      "image/png": "[encoded data removed]",
      "text/plain": [
       "<Figure size 432x288 with 1 Axes>"
      ]
     },
     "metadata": {
      "needs_background": "light"
     },
     "output_type": "display_data"
    }
   ],
   "source": [
    "plt.scatter(y_val, y_pred)"
   ]
  },
  {
   "cell_type": "markdown",
   "metadata": {},
   "source": [
    "### SVM"
   ]
  },
  {
   "cell_type": "code",
   "execution_count": 283,
   "metadata": {},
   "outputs": [],
   "source": [
    "from sklearn.svm import SVR\n",
    "\n",
    "svr = SVR(C=10000000)\n",
    "svr.fit(X_train, y_train)\n",
    "\n",
    "y_pred = svr.predict(X_val)"
   ]
  },
  {
   "cell_type": "code",
   "execution_count": 284,
   "metadata": {},
   "outputs": [
    {
     "name": "stdout",
     "output_type": "stream",
     "text": [
      "MSE: 1273950549323.648\n",
      "R2: 0.7275666913952337\n",
      "RMSE: 1128694.1788295216\n"
     ]
    }
   ],
   "source": [
    "svr_mse = mean_squared_error(y_val, y_pred)\n",
    "svr_r2 = r2_score(y_val, y_pred)\n",
    "\n",
    "print(f'MSE: {svr_mse}')\n",
    "print(f'R2: {svr_r2}')\n",
    "print(f'RMSE: {np.sqrt(svr_mse)}')"
   ]
  },
  {
   "cell_type": "code",
   "execution_count": 285,
   "metadata": {},
   "outputs": [
    {
     "data": {
      "text/plain": [
       "<matplotlib.collections.PathCollection at 0x7fcc8827cfa0>"
      ]
     },
     "execution_count": 285,
     "metadata": {},
     "output_type": "execute_result"
    },
    {
     "data": {
      "image/png": "[encoded data removed]",
      "text/plain": [
       "<Figure size 432x288 with 1 Axes>"
      ]
     },
     "metadata": {
      "needs_background": "light"
     },
     "output_type": "display_data"
    }
   ],
   "source": [
    "plt.scatter(y_val, y_pred)"
   ]
  },
  {
   "cell_type": "markdown",
   "metadata": {},
   "source": [
    "### Random Forest"
   ]
  },
  {
   "cell_type": "code",
   "execution_count": 286,
   "metadata": {},
   "outputs": [],
   "source": [
    "from sklearn.ensemble import RandomForestRegressor\n",
    "\n",
    "rf = RandomForestRegressor(random_state=23, )\n",
    "rf.fit(X_train, y_train)\n",
    "\n",
    "y_pred = rf.predict(X_val)"
   ]
  },
  {
   "cell_type": "code",
   "execution_count": 287,
   "metadata": {},
   "outputs": [
    {
     "name": "stdout",
     "output_type": "stream",
     "text": [
      "MSE: 1539335009562.9634\n",
      "R2: 0.6708144362989341\n"
     ]
    }
   ],
   "source": [
    "rf_mse = mean_squared_error(y_val, y_pred)\n",
    "rf_r2 = r2_score(y_val, y_pred)\n",
    "\n",
    "print(f'MSE: {rf_mse}')\n",
    "print(f'R2: {rf_r2}')"
   ]
  },
  {
   "cell_type": "code",
   "execution_count": 288,
   "metadata": {},
   "outputs": [
    {
     "data": {
      "text/plain": [
       "<matplotlib.collections.PathCollection at 0x7fccfa5ff400>"
      ]
     },
     "execution_count": 288,
     "metadata": {},
     "output_type": "execute_result"
    },
    {
     "data": {
      "image/png": "[encoded data removed]",
      "text/plain": [
       "<Figure size 432x288 with 1 Axes>"
      ]
     },
     "metadata": {
      "needs_background": "light"
     },
     "output_type": "display_data"
    }
   ],
   "source": [
    "plt.scatter(y_val, y_pred)"
   ]
  },
  {
   "cell_type": "markdown",
   "metadata": {},
   "source": [
    "### Gradient Boosting"
   ]
  },
  {
   "cell_type": "code",
   "execution_count": 289,
   "metadata": {},
   "outputs": [],
   "source": [
    "from sklearn.ensemble import GradientBoostingRegressor\n",
    "\n",
    "gbr = GradientBoostingRegressor()\n",
    "gbr.fit(X_train, y_train)\n",
    "\n",
    "y_pred = gbr.predict(X_val)"
   ]
  },
  {
   "cell_type": "code",
   "execution_count": 290,
   "metadata": {},
   "outputs": [
    {
     "name": "stdout",
     "output_type": "stream",
     "text": [
      "MSE: 1425496172001.06\n",
      "R2: 0.6951587808899977\n"
     ]
    }
   ],
   "source": [
    "gbr_mse = mean_squared_error(y_val, y_pred)\n",
    "gbr_r2 = r2_score(y_val, y_pred)\n",
    "\n",
    "print(f'MSE: {gbr_mse}')\n",
    "print(f'R2: {gbr_r2}')"
   ]
  },
  {
   "cell_type": "code",
   "execution_count": 291,
   "metadata": {},
   "outputs": [
    {
     "data": {
      "text/plain": [
       "<matplotlib.collections.PathCollection at 0x7fccb8b46580>"
      ]
     },
     "execution_count": 291,
     "metadata": {},
     "output_type": "execute_result"
    },
    {
     "data": {
      "image/png": "[encoded data removed]",
      "text/plain": [
       "<Figure size 432x288 with 1 Axes>"
      ]
     },
     "metadata": {
      "needs_background": "light"
     },
     "output_type": "display_data"
    }
   ],
   "source": [
    "plt.scatter(y_val, y_pred)"
   ]
  },
  {
   "cell_type": "code",
   "execution_count": 303,
   "metadata": {},
   "outputs": [],
   "source": [
    "feature_importances = pd.DataFrame(rf.feature_importances_,\n",
    "                                   index = df_train.drop(columns=['AAV']).columns,\n",
    "                                    columns=['importance']).sort_values('importance',\n",
    "                                                                        ascending=False)"
   ]
  },
  {
   "cell_type": "code",
   "execution_count": 304,
   "metadata": {},
   "outputs": [
    {
     "data": {
      "image/png": "[encoded data removed]",
      "text/plain": [
       "<Figure size 640x1200 with 1 Axes>"
      ]
     },
     "metadata": {},
     "output_type": "display_data"
    }
   ],
   "source": [
    "num = 50\n",
    "ylocs = np.arange(num)\n",
    "# get the feature importance for top num and sort in reverse order\n",
    "values_to_plot = feature_importances.iloc[:num].values.ravel()[::-1]\n",
    "feature_labels = list(feature_importances.iloc[:num].index)[::-1]\n",
    "\n",
    "plt.figure(num=None, figsize=(8, 15), dpi=80, facecolor='w', edgecolor='k');\n",
    "plt.barh(ylocs, values_to_plot, align = 'center')\n",
    "plt.ylabel('Features')\n",
    "plt.xlabel('Importance Score')\n",
    "plt.title('Positive Feature Importance Score - Logistic Regression')\n",
    "plt.yticks(ylocs, feature_labels)\n",
    "plt.show()"
   ]
  },
  {
   "cell_type": "markdown",
   "metadata": {},
   "source": [
    "It seems like the teams variable isn't too important unless the player plays for the Toronto team. We can make turn the team variable into binary, either the player plays for Toronto or does not."
   ]
  },
  {
   "cell_type": "code",
   "execution_count": 330,
   "metadata": {},
   "outputs": [
    {
     "data": {
      "text/plain": [
       "['Tm_ARI',\n",
       " 'Tm_ATL',\n",
       " 'Tm_BOS',\n",
       " 'Tm_BUF',\n",
       " 'Tm_CAR',\n",
       " 'Tm_CBJ',\n",
       " 'Tm_CGY',\n",
       " 'Tm_CHI',\n",
       " 'Tm_COL',\n",
       " 'Tm_DAL',\n",
       " 'Tm_DET',\n",
       " 'Tm_EDM',\n",
       " 'Tm_FLA',\n",
       " 'Tm_LAK',\n",
       " 'Tm_MIN',\n",
       " 'Tm_MTL',\n",
       " 'Tm_NJD',\n",
       " 'Tm_NSH',\n",
       " 'Tm_NYI',\n",
       " 'Tm_NYR',\n",
       " 'Tm_OTT',\n",
       " 'Tm_PHI',\n",
       " 'Tm_PHX',\n",
       " 'Tm_PIT',\n",
       " 'Tm_SEA',\n",
       " 'Tm_SJS',\n",
       " 'Tm_STL',\n",
       " 'Tm_TBL',\n",
       " 'Tm_TOR',\n",
       " 'Tm_TOT',\n",
       " 'Tm_VAN',\n",
       " 'Tm_VEG',\n",
       " 'Tm_WPG',\n",
       " 'Tm_WSH',\n",
       " 'AAV']"
      ]
     },
     "execution_count": 330,
     "metadata": {},
     "output_type": "execute_result"
    }
   ],
   "source": [
    "team_cols = list(df_train.columns[28:-5])\n",
    "team_cols.append('AAV')\n",
    "team_cols"
   ]
  },
  {
   "cell_type": "code",
   "execution_count": 332,
   "metadata": {},
   "outputs": [],
   "source": [
    "X_train = df_train.drop(columns=team_cols)\n",
    "X_train['Tm_TOR'] = df_train['Tm_TOR']\n",
    "y_train = df_train['AAV']\n",
    "X_val = df_valid.drop(columns=team_cols)\n",
    "X_val['Tm_TOR'] = df_valid['Tm_TOR']\n",
    "y_val = df_valid['AAV']"
   ]
  },
  {
   "cell_type": "code",
   "execution_count": 333,
   "metadata": {},
   "outputs": [],
   "source": [
    "sc = StandardScaler()\n",
    "X_train = sc.fit_transform(X_train)\n",
    "X_val = sc.transform(X_val)"
   ]
  },
  {
   "cell_type": "markdown",
   "metadata": {},
   "source": [
    "### Linear Regression"
   ]
  },
  {
   "cell_type": "code",
   "execution_count": 334,
   "metadata": {},
   "outputs": [],
   "source": [
    "from sklearn.linear_model import LinearRegression\n",
    "\n",
    "lr = LinearRegression()\n",
    "lr.fit(X_train, y_train)\n",
    "\n",
    "y_pred = lr.predict(X_val)"
   ]
  },
  {
   "cell_type": "code",
   "execution_count": 335,
   "metadata": {},
   "outputs": [
    {
     "name": "stdout",
     "output_type": "stream",
     "text": [
      "MSE: 1649719238992.8062\n",
      "R2: 0.647208856900797\n"
     ]
    }
   ],
   "source": [
    "from sklearn.metrics import mean_squared_error, r2_score\n",
    "\n",
    "lr_mse = mean_squared_error(y_val, y_pred)\n",
    "lr_r2 = r2_score(y_val, y_pred)\n",
    "\n",
    "print(f'MSE: {lr_mse}')\n",
    "print(f'R2: {lr_r2}')"
   ]
  },
  {
   "cell_type": "code",
   "execution_count": 336,
   "metadata": {},
   "outputs": [
    {
     "data": {
      "text/plain": [
       "<matplotlib.collections.PathCollection at 0x7fccfad66fa0>"
      ]
     },
     "execution_count": 336,
     "metadata": {},
     "output_type": "execute_result"
    },
    {
     "data": {
      "image/png": "[encoded data removed]",
      "text/plain": [
       "<Figure size 432x288 with 1 Axes>"
      ]
     },
     "metadata": {
      "needs_background": "light"
     },
     "output_type": "display_data"
    }
   ],
   "source": [
    "plt.scatter(y_val, y_pred)"
   ]
  },
  {
   "cell_type": "markdown",
   "metadata": {},
   "source": [
    "### SVM"
   ]
  },
  {
   "cell_type": "code",
   "execution_count": 337,
   "metadata": {},
   "outputs": [],
   "source": [
    "from sklearn.svm import SVR\n",
    "\n",
    "svr = SVR(C=10000000)\n",
    "svr.fit(X_train, y_train)\n",
    "\n",
    "y_pred = svr.predict(X_val)"
   ]
  },
  {
   "cell_type": "code",
   "execution_count": 338,
   "metadata": {},
   "outputs": [
    {
     "name": "stdout",
     "output_type": "stream",
     "text": [
      "MSE: 1453424525762.1255\n",
      "R2: 0.6891863247196615\n",
      "RMSE: 1205580.5762213182\n"
     ]
    }
   ],
   "source": [
    "svr_mse = mean_squared_error(y_val, y_pred)\n",
    "svr_r2 = r2_score(y_val, y_pred)\n",
    "\n",
    "print(f'MSE: {svr_mse}')\n",
    "print(f'R2: {svr_r2}')\n",
    "print(f'RMSE: {np.sqrt(svr_mse)}')"
   ]
  },
  {
   "cell_type": "code",
   "execution_count": 339,
   "metadata": {},
   "outputs": [
    {
     "data": {
      "text/plain": [
       "<matplotlib.collections.PathCollection at 0x7fccb8b57dc0>"
      ]
     },
     "execution_count": 339,
     "metadata": {},
     "output_type": "execute_result"
    },
    {
     "data": {
      "image/png": "[encoded data removed]",
      "text/plain": [
       "<Figure size 432x288 with 1 Axes>"
      ]
     },
     "metadata": {
      "needs_background": "light"
     },
     "output_type": "display_data"
    }
   ],
   "source": [
    "plt.scatter(y_val, y_pred)"
   ]
  },
  {
   "cell_type": "markdown",
   "metadata": {},
   "source": [
    "### Random Forest"
   ]
  },
  {
   "cell_type": "code",
   "execution_count": 340,
   "metadata": {},
   "outputs": [],
   "source": [
    "from sklearn.ensemble import RandomForestRegressor\n",
    "\n",
    "rf = RandomForestRegressor(random_state=23, )\n",
    "rf.fit(X_train, y_train)\n",
    "\n",
    "y_pred = rf.predict(X_val)"
   ]
  },
  {
   "cell_type": "code",
   "execution_count": 341,
   "metadata": {},
   "outputs": [
    {
     "name": "stdout",
     "output_type": "stream",
     "text": [
      "MSE: 1570019729638.1218\n",
      "R2: 0.6642525333913804\n"
     ]
    }
   ],
   "source": [
    "rf_mse = mean_squared_error(y_val, y_pred)\n",
    "rf_r2 = r2_score(y_val, y_pred)\n",
    "\n",
    "print(f'MSE: {rf_mse}')\n",
    "print(f'R2: {rf_r2}')"
   ]
  },
  {
   "cell_type": "code",
   "execution_count": 342,
   "metadata": {},
   "outputs": [
    {
     "data": {
      "text/plain": [
       "<matplotlib.collections.PathCollection at 0x7fcc900395e0>"
      ]
     },
     "execution_count": 342,
     "metadata": {},
     "output_type": "execute_result"
    },
    {
     "data": {
      "image/png": "[encoded data removed]",
      "text/plain": [
       "<Figure size 432x288 with 1 Axes>"
      ]
     },
     "metadata": {
      "needs_background": "light"
     },
     "output_type": "display_data"
    }
   ],
   "source": [
    "plt.scatter(y_val, y_pred)"
   ]
  },
  {
   "cell_type": "markdown",
   "metadata": {},
   "source": [
    "### Gradient Boosting"
   ]
  },
  {
   "cell_type": "code",
   "execution_count": 343,
   "metadata": {},
   "outputs": [],
   "source": [
    "from sklearn.ensemble import GradientBoostingRegressor\n",
    "\n",
    "gbr = GradientBoostingRegressor()\n",
    "gbr.fit(X_train, y_train)\n",
    "\n",
    "y_pred = gbr.predict(X_val)"
   ]
  },
  {
   "cell_type": "code",
   "execution_count": 344,
   "metadata": {},
   "outputs": [
    {
     "name": "stdout",
     "output_type": "stream",
     "text": [
      "MSE: 1420569163117.0083\n",
      "R2: 0.6962124178090445\n"
     ]
    }
   ],
   "source": [
    "gbr_mse = mean_squared_error(y_val, y_pred)\n",
    "gbr_r2 = r2_score(y_val, y_pred)\n",
    "\n",
    "print(f'MSE: {gbr_mse}')\n",
    "print(f'R2: {gbr_r2}')"
   ]
  },
  {
   "cell_type": "code",
   "execution_count": 345,
   "metadata": {},
   "outputs": [
    {
     "data": {
      "text/plain": [
       "<matplotlib.collections.PathCollection at 0x7fccfad05e80>"
      ]
     },
     "execution_count": 345,
     "metadata": {},
     "output_type": "execute_result"
    },
    {
     "data": {
      "image/png": "[encoded data removed]",
      "text/plain": [
       "<Figure size 432x288 with 1 Axes>"
      ]
     },
     "metadata": {
      "needs_background": "light"
     },
     "output_type": "display_data"
    }
   ],
   "source": [
    "plt.scatter(y_val, y_pred)"
   ]
  },
  {
   "cell_type": "code",
   "execution_count": null,
   "metadata": {},
   "outputs": [],
   "source": []
  }
 ],
 "metadata": {
  "kernelspec": {
   "display_name": "Python 3.8.5 ('base')",
   "language": "python",
   "name": "python3"
  },
  "language_info": {
   "codemirror_mode": {
    "name": "ipython",
    "version": 3
   },
   "file_extension": ".py",
   "mimetype": "text/x-python",
   "name": "python",
   "nbconvert_exporter": "python",
   "pygments_lexer": "ipython3",
   "version": "3.8.5"
  },
  "orig_nbformat": 4,
  "vscode": {
   "interpreter": {
    "hash": "cde9e06954608812f36a56132da0251c351f6ad8984d203ba87e4f78021e1e3f"
   }
  }
 },
 "nbformat": 4,
 "nbformat_minor": 2
}
